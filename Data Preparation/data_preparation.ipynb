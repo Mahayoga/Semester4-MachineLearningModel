{
 "cells": [
  {
   "cell_type": "markdown",
   "id": "9237a746",
   "metadata": {},
   "source": [
    "# Data Preparation\n",
    "\n",
    "Overview\n",
    "\n",
    "- Introduction\n",
    "- Data Understanding\n",
    "- Data Cleaning\n",
    "- Data transformation\n",
    "- Save dataset to MongoDB\n",
    "- Conclusion"
   ]
  },
  {
   "cell_type": "markdown",
   "id": "af538820",
   "metadata": {},
   "source": [
    "### Introduction"
   ]
  },
  {
   "cell_type": "code",
   "execution_count": null,
   "id": "6566c925",
   "metadata": {
    "vscode": {
     "languageId": "plaintext"
    }
   },
   "outputs": [],
   "source": []
  }
 ],
 "metadata": {
  "language_info": {
   "name": "python"
  }
 },
 "nbformat": 4,
 "nbformat_minor": 5
}
