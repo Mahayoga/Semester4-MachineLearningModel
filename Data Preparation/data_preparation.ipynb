{
 "cells": [
  {
   "cell_type": "markdown",
   "id": "9237a746",
   "metadata": {},
   "source": [
    "# Data Preparation\n",
    "\n",
    "Overview\n",
    "\n",
    "- Introduction\n",
    "- Data Understanding\n",
    "- Data Cleaning\n",
    "- Data transformation\n",
    "- Save dataset to MongoDB\n",
    "- Conclusion"
   ]
  },
  {
   "cell_type": "markdown",
   "id": "af538820",
   "metadata": {},
   "source": [
    "### Introduction"
   ]
  },
  {
   "cell_type": "markdown",
   "id": "ac534c06",
   "metadata": {},
   "source": [
    "**1. Import Library yang dibutuhkan**"
   ]
  },
  {
   "cell_type": "code",
   "execution_count": 1,
   "id": "ff2d7716",
   "metadata": {},
   "outputs": [],
   "source": [
    "import pandas as pd\n",
    "import matplotlib.pyplot as plt\n",
    "import seaborn as sns\n",
    "from pymongo import MongoClient"
   ]
  },
  {
   "cell_type": "markdown",
   "id": "c83a9d13",
   "metadata": {},
   "source": [
    "**2. Membuka dataset**"
   ]
  },
  {
   "cell_type": "code",
   "execution_count": 3,
   "id": "9ec2ddbd",
   "metadata": {},
   "outputs": [
    {
     "data": {
      "text/html": [
       "<div>\n",
       "<style scoped>\n",
       "    .dataframe tbody tr th:only-of-type {\n",
       "        vertical-align: middle;\n",
       "    }\n",
       "\n",
       "    .dataframe tbody tr th {\n",
       "        vertical-align: top;\n",
       "    }\n",
       "\n",
       "    .dataframe thead th {\n",
       "        text-align: right;\n",
       "    }\n",
       "</style>\n",
       "<table border=\"1\" class=\"dataframe\">\n",
       "  <thead>\n",
       "    <tr style=\"text-align: right;\">\n",
       "      <th></th>\n",
       "      <th>Pregnancies</th>\n",
       "      <th>Glucose</th>\n",
       "      <th>BloodPressure</th>\n",
       "      <th>SkinThickness</th>\n",
       "      <th>Insulin</th>\n",
       "      <th>BMI</th>\n",
       "      <th>DiabetesPedigreeFunction</th>\n",
       "      <th>Age</th>\n",
       "      <th>Outcome</th>\n",
       "    </tr>\n",
       "  </thead>\n",
       "  <tbody>\n",
       "    <tr>\n",
       "      <th>0</th>\n",
       "      <td>6</td>\n",
       "      <td>148</td>\n",
       "      <td>72</td>\n",
       "      <td>35</td>\n",
       "      <td>0</td>\n",
       "      <td>33.6</td>\n",
       "      <td>0.627</td>\n",
       "      <td>50</td>\n",
       "      <td>1</td>\n",
       "    </tr>\n",
       "    <tr>\n",
       "      <th>1</th>\n",
       "      <td>1</td>\n",
       "      <td>85</td>\n",
       "      <td>66</td>\n",
       "      <td>29</td>\n",
       "      <td>0</td>\n",
       "      <td>26.6</td>\n",
       "      <td>0.351</td>\n",
       "      <td>31</td>\n",
       "      <td>0</td>\n",
       "    </tr>\n",
       "    <tr>\n",
       "      <th>2</th>\n",
       "      <td>8</td>\n",
       "      <td>183</td>\n",
       "      <td>64</td>\n",
       "      <td>0</td>\n",
       "      <td>0</td>\n",
       "      <td>23.3</td>\n",
       "      <td>0.672</td>\n",
       "      <td>32</td>\n",
       "      <td>1</td>\n",
       "    </tr>\n",
       "    <tr>\n",
       "      <th>3</th>\n",
       "      <td>1</td>\n",
       "      <td>89</td>\n",
       "      <td>66</td>\n",
       "      <td>23</td>\n",
       "      <td>94</td>\n",
       "      <td>28.1</td>\n",
       "      <td>0.167</td>\n",
       "      <td>21</td>\n",
       "      <td>0</td>\n",
       "    </tr>\n",
       "    <tr>\n",
       "      <th>4</th>\n",
       "      <td>0</td>\n",
       "      <td>137</td>\n",
       "      <td>40</td>\n",
       "      <td>35</td>\n",
       "      <td>168</td>\n",
       "      <td>43.1</td>\n",
       "      <td>2.288</td>\n",
       "      <td>33</td>\n",
       "      <td>1</td>\n",
       "    </tr>\n",
       "  </tbody>\n",
       "</table>\n",
       "</div>"
      ],
      "text/plain": [
       "   Pregnancies  Glucose  BloodPressure  SkinThickness  Insulin   BMI  \\\n",
       "0            6      148             72             35        0  33.6   \n",
       "1            1       85             66             29        0  26.6   \n",
       "2            8      183             64              0        0  23.3   \n",
       "3            1       89             66             23       94  28.1   \n",
       "4            0      137             40             35      168  43.1   \n",
       "\n",
       "   DiabetesPedigreeFunction  Age  Outcome  \n",
       "0                     0.627   50        1  \n",
       "1                     0.351   31        0  \n",
       "2                     0.672   32        1  \n",
       "3                     0.167   21        0  \n",
       "4                     2.288   33        1  "
      ]
     },
     "execution_count": 3,
     "metadata": {},
     "output_type": "execute_result"
    }
   ],
   "source": [
    "df = pd.read_csv('../diabetes.csv')\n",
    "df.head()"
   ]
  },
  {
   "cell_type": "markdown",
   "id": "0687f0f0",
   "metadata": {},
   "source": [
    "**3. Menganalisis dataset**"
   ]
  },
  {
   "cell_type": "code",
   "execution_count": 4,
   "id": "5b5484b1",
   "metadata": {},
   "outputs": [
    {
     "name": "stdout",
     "output_type": "stream",
     "text": [
      "Jumlah kolom dan baris: (768, 9)\n",
      "\n",
      "Tipe data tiap kolom:\n",
      "Pregnancies                   int64\n",
      "Glucose                       int64\n",
      "BloodPressure                 int64\n",
      "SkinThickness                 int64\n",
      "Insulin                       int64\n",
      "BMI                         float64\n",
      "DiabetesPedigreeFunction    float64\n",
      "Age                           int64\n",
      "Outcome                       int64\n",
      "dtype: object\n",
      "\n",
      "Statistik deskriptif:\n",
      "       Pregnancies     Glucose  BloodPressure  SkinThickness     Insulin  \\\n",
      "count   768.000000  768.000000     768.000000     768.000000  768.000000   \n",
      "mean      3.845052  120.894531      69.105469      20.536458   79.799479   \n",
      "std       3.369578   31.972618      19.355807      15.952218  115.244002   \n",
      "min       0.000000    0.000000       0.000000       0.000000    0.000000   \n",
      "25%       1.000000   99.000000      62.000000       0.000000    0.000000   \n",
      "50%       3.000000  117.000000      72.000000      23.000000   30.500000   \n",
      "75%       6.000000  140.250000      80.000000      32.000000  127.250000   \n",
      "max      17.000000  199.000000     122.000000      99.000000  846.000000   \n",
      "\n",
      "              BMI  DiabetesPedigreeFunction         Age     Outcome  \n",
      "count  768.000000                768.000000  768.000000  768.000000  \n",
      "mean    31.992578                  0.471876   33.240885    0.348958  \n",
      "std      7.884160                  0.331329   11.760232    0.476951  \n",
      "min      0.000000                  0.078000   21.000000    0.000000  \n",
      "25%     27.300000                  0.243750   24.000000    0.000000  \n",
      "50%     32.000000                  0.372500   29.000000    0.000000  \n",
      "75%     36.600000                  0.626250   41.000000    1.000000  \n",
      "max     67.100000                  2.420000   81.000000    1.000000  \n",
      "\n",
      "Jumlah duplikasi: 0\n"
     ]
    }
   ],
   "source": [
    "print('Jumlah kolom dan baris:', df.shape)\n",
    "\n",
    "print('\\nTipe data tiap kolom:')\n",
    "print(df.dtypes)\n",
    "\n",
    "print('\\nStatistik deskriptif:')\n",
    "print(df.describe(include='all'))\n",
    "\n",
    "print('\\nJumlah duplikasi:', df.duplicated().sum())"
   ]
  },
  {
   "cell_type": "code",
   "execution_count": 5,
   "id": "72945892",
   "metadata": {},
   "outputs": [
    {
     "name": "stdout",
     "output_type": "stream",
     "text": [
      "\n",
      "Nilai hilang:\n",
      "Pregnancies                 0\n",
      "Glucose                     0\n",
      "BloodPressure               0\n",
      "SkinThickness               0\n",
      "Insulin                     0\n",
      "BMI                         0\n",
      "DiabetesPedigreeFunction    0\n",
      "Age                         0\n",
      "Outcome                     0\n",
      "dtype: int64\n"
     ]
    }
   ],
   "source": [
    "print('\\nNilai hilang:')\n",
    "print(df.isnull().sum())"
   ]
  },
  {
   "cell_type": "markdown",
   "id": "29650ac6",
   "metadata": {},
   "source": [
    "**4. Drop kolom yang tidak diperlukan**"
   ]
  },
  {
   "cell_type": "code",
   "execution_count": null,
   "id": "13904b68",
   "metadata": {},
   "outputs": [],
   "source": []
  },
  {
   "cell_type": "markdown",
   "id": "265dfdbd",
   "metadata": {},
   "source": [
    "**5. Tangani missing values**"
   ]
  },
  {
   "cell_type": "code",
   "execution_count": null,
   "id": "47b1ef4c",
   "metadata": {},
   "outputs": [],
   "source": []
  },
  {
   "cell_type": "markdown",
   "id": "3048cc48",
   "metadata": {},
   "source": [
    "**6. Tangani duplikasi**"
   ]
  },
  {
   "cell_type": "code",
   "execution_count": null,
   "id": "5a3f630c",
   "metadata": {},
   "outputs": [],
   "source": []
  },
  {
   "cell_type": "markdown",
   "id": "27fc0835",
   "metadata": {},
   "source": [
    "### Data Transformasi"
   ]
  },
  {
   "cell_type": "markdown",
   "id": "e5e63233",
   "metadata": {},
   "source": [
    "**1. Encoding**"
   ]
  },
  {
   "cell_type": "code",
   "execution_count": null,
   "id": "bd65b69d",
   "metadata": {},
   "outputs": [],
   "source": []
  },
  {
   "cell_type": "markdown",
   "id": "64f4423b",
   "metadata": {},
   "source": [
    "### Save data to MongoDB"
   ]
  },
  {
   "cell_type": "code",
   "execution_count": 6,
   "id": "14bf0b58",
   "metadata": {},
   "outputs": [
    {
     "data": {
      "text/plain": [
       "InsertManyResult([ObjectId('680845392dd91953fa28fbf7'), ObjectId('680845392dd91953fa28fbf8'), ObjectId('680845392dd91953fa28fbf9'), ObjectId('680845392dd91953fa28fbfa'), ObjectId('680845392dd91953fa28fbfb'), ObjectId('680845392dd91953fa28fbfc'), ObjectId('680845392dd91953fa28fbfd'), ObjectId('680845392dd91953fa28fbfe'), ObjectId('680845392dd91953fa28fbff'), ObjectId('680845392dd91953fa28fc00'), ObjectId('680845392dd91953fa28fc01'), ObjectId('680845392dd91953fa28fc02'), ObjectId('680845392dd91953fa28fc03'), ObjectId('680845392dd91953fa28fc04'), ObjectId('680845392dd91953fa28fc05'), ObjectId('680845392dd91953fa28fc06'), ObjectId('680845392dd91953fa28fc07'), ObjectId('680845392dd91953fa28fc08'), ObjectId('680845392dd91953fa28fc09'), ObjectId('680845392dd91953fa28fc0a'), ObjectId('680845392dd91953fa28fc0b'), ObjectId('680845392dd91953fa28fc0c'), ObjectId('680845392dd91953fa28fc0d'), ObjectId('680845392dd91953fa28fc0e'), ObjectId('680845392dd91953fa28fc0f'), ObjectId('680845392dd91953fa28fc10'), ObjectId('680845392dd91953fa28fc11'), ObjectId('680845392dd91953fa28fc12'), ObjectId('680845392dd91953fa28fc13'), ObjectId('680845392dd91953fa28fc14'), ObjectId('680845392dd91953fa28fc15'), ObjectId('680845392dd91953fa28fc16'), ObjectId('680845392dd91953fa28fc17'), ObjectId('680845392dd91953fa28fc18'), ObjectId('680845392dd91953fa28fc19'), ObjectId('680845392dd91953fa28fc1a'), ObjectId('680845392dd91953fa28fc1b'), ObjectId('680845392dd91953fa28fc1c'), ObjectId('680845392dd91953fa28fc1d'), ObjectId('680845392dd91953fa28fc1e'), ObjectId('680845392dd91953fa28fc1f'), ObjectId('680845392dd91953fa28fc20'), ObjectId('680845392dd91953fa28fc21'), ObjectId('680845392dd91953fa28fc22'), ObjectId('680845392dd91953fa28fc23'), ObjectId('680845392dd91953fa28fc24'), ObjectId('680845392dd91953fa28fc25'), ObjectId('680845392dd91953fa28fc26'), ObjectId('680845392dd91953fa28fc27'), ObjectId('680845392dd91953fa28fc28'), ObjectId('680845392dd91953fa28fc29'), ObjectId('680845392dd91953fa28fc2a'), ObjectId('680845392dd91953fa28fc2b'), ObjectId('680845392dd91953fa28fc2c'), ObjectId('680845392dd91953fa28fc2d'), ObjectId('680845392dd91953fa28fc2e'), ObjectId('680845392dd91953fa28fc2f'), ObjectId('680845392dd91953fa28fc30'), ObjectId('680845392dd91953fa28fc31'), ObjectId('680845392dd91953fa28fc32'), ObjectId('680845392dd91953fa28fc33'), ObjectId('680845392dd91953fa28fc34'), ObjectId('680845392dd91953fa28fc35'), ObjectId('680845392dd91953fa28fc36'), ObjectId('680845392dd91953fa28fc37'), ObjectId('680845392dd91953fa28fc38'), ObjectId('680845392dd91953fa28fc39'), ObjectId('680845392dd91953fa28fc3a'), ObjectId('680845392dd91953fa28fc3b'), ObjectId('680845392dd91953fa28fc3c'), ObjectId('680845392dd91953fa28fc3d'), ObjectId('680845392dd91953fa28fc3e'), ObjectId('680845392dd91953fa28fc3f'), ObjectId('680845392dd91953fa28fc40'), ObjectId('680845392dd91953fa28fc41'), ObjectId('680845392dd91953fa28fc42'), ObjectId('680845392dd91953fa28fc43'), ObjectId('680845392dd91953fa28fc44'), ObjectId('680845392dd91953fa28fc45'), ObjectId('680845392dd91953fa28fc46'), ObjectId('680845392dd91953fa28fc47'), ObjectId('680845392dd91953fa28fc48'), ObjectId('680845392dd91953fa28fc49'), ObjectId('680845392dd91953fa28fc4a'), ObjectId('680845392dd91953fa28fc4b'), ObjectId('680845392dd91953fa28fc4c'), ObjectId('680845392dd91953fa28fc4d'), ObjectId('680845392dd91953fa28fc4e'), ObjectId('680845392dd91953fa28fc4f'), ObjectId('680845392dd91953fa28fc50'), ObjectId('680845392dd91953fa28fc51'), ObjectId('680845392dd91953fa28fc52'), ObjectId('680845392dd91953fa28fc53'), ObjectId('680845392dd91953fa28fc54'), ObjectId('680845392dd91953fa28fc55'), ObjectId('680845392dd91953fa28fc56'), ObjectId('680845392dd91953fa28fc57'), ObjectId('680845392dd91953fa28fc58'), ObjectId('680845392dd91953fa28fc59'), ObjectId('680845392dd91953fa28fc5a'), ObjectId('680845392dd91953fa28fc5b'), ObjectId('680845392dd91953fa28fc5c'), ObjectId('680845392dd91953fa28fc5d'), ObjectId('680845392dd91953fa28fc5e'), ObjectId('680845392dd91953fa28fc5f'), ObjectId('680845392dd91953fa28fc60'), ObjectId('680845392dd91953fa28fc61'), ObjectId('680845392dd91953fa28fc62'), ObjectId('680845392dd91953fa28fc63'), ObjectId('680845392dd91953fa28fc64'), ObjectId('680845392dd91953fa28fc65'), ObjectId('680845392dd91953fa28fc66'), ObjectId('680845392dd91953fa28fc67'), ObjectId('680845392dd91953fa28fc68'), ObjectId('680845392dd91953fa28fc69'), ObjectId('680845392dd91953fa28fc6a'), ObjectId('680845392dd91953fa28fc6b'), ObjectId('680845392dd91953fa28fc6c'), ObjectId('680845392dd91953fa28fc6d'), ObjectId('680845392dd91953fa28fc6e'), ObjectId('680845392dd91953fa28fc6f'), ObjectId('680845392dd91953fa28fc70'), ObjectId('680845392dd91953fa28fc71'), ObjectId('680845392dd91953fa28fc72'), ObjectId('680845392dd91953fa28fc73'), ObjectId('680845392dd91953fa28fc74'), ObjectId('680845392dd91953fa28fc75'), ObjectId('680845392dd91953fa28fc76'), ObjectId('680845392dd91953fa28fc77'), ObjectId('680845392dd91953fa28fc78'), ObjectId('680845392dd91953fa28fc79'), ObjectId('680845392dd91953fa28fc7a'), ObjectId('680845392dd91953fa28fc7b'), ObjectId('680845392dd91953fa28fc7c'), ObjectId('680845392dd91953fa28fc7d'), ObjectId('680845392dd91953fa28fc7e'), ObjectId('680845392dd91953fa28fc7f'), ObjectId('680845392dd91953fa28fc80'), ObjectId('680845392dd91953fa28fc81'), ObjectId('680845392dd91953fa28fc82'), ObjectId('680845392dd91953fa28fc83'), ObjectId('680845392dd91953fa28fc84'), ObjectId('680845392dd91953fa28fc85'), ObjectId('680845392dd91953fa28fc86'), ObjectId('680845392dd91953fa28fc87'), ObjectId('680845392dd91953fa28fc88'), ObjectId('680845392dd91953fa28fc89'), ObjectId('680845392dd91953fa28fc8a'), ObjectId('680845392dd91953fa28fc8b'), ObjectId('680845392dd91953fa28fc8c'), ObjectId('680845392dd91953fa28fc8d'), ObjectId('680845392dd91953fa28fc8e'), ObjectId('680845392dd91953fa28fc8f'), ObjectId('680845392dd91953fa28fc90'), ObjectId('680845392dd91953fa28fc91'), ObjectId('680845392dd91953fa28fc92'), ObjectId('680845392dd91953fa28fc93'), ObjectId('680845392dd91953fa28fc94'), ObjectId('680845392dd91953fa28fc95'), ObjectId('680845392dd91953fa28fc96'), ObjectId('680845392dd91953fa28fc97'), ObjectId('680845392dd91953fa28fc98'), ObjectId('680845392dd91953fa28fc99'), ObjectId('680845392dd91953fa28fc9a'), ObjectId('680845392dd91953fa28fc9b'), ObjectId('680845392dd91953fa28fc9c'), ObjectId('680845392dd91953fa28fc9d'), ObjectId('680845392dd91953fa28fc9e'), ObjectId('680845392dd91953fa28fc9f'), ObjectId('680845392dd91953fa28fca0'), ObjectId('680845392dd91953fa28fca1'), ObjectId('680845392dd91953fa28fca2'), ObjectId('680845392dd91953fa28fca3'), ObjectId('680845392dd91953fa28fca4'), ObjectId('680845392dd91953fa28fca5'), ObjectId('680845392dd91953fa28fca6'), ObjectId('680845392dd91953fa28fca7'), ObjectId('680845392dd91953fa28fca8'), ObjectId('680845392dd91953fa28fca9'), ObjectId('680845392dd91953fa28fcaa'), ObjectId('680845392dd91953fa28fcab'), ObjectId('680845392dd91953fa28fcac'), ObjectId('680845392dd91953fa28fcad'), ObjectId('680845392dd91953fa28fcae'), ObjectId('680845392dd91953fa28fcaf'), ObjectId('680845392dd91953fa28fcb0'), ObjectId('680845392dd91953fa28fcb1'), ObjectId('680845392dd91953fa28fcb2'), ObjectId('680845392dd91953fa28fcb3'), ObjectId('680845392dd91953fa28fcb4'), ObjectId('680845392dd91953fa28fcb5'), ObjectId('680845392dd91953fa28fcb6'), ObjectId('680845392dd91953fa28fcb7'), ObjectId('680845392dd91953fa28fcb8'), ObjectId('680845392dd91953fa28fcb9'), ObjectId('680845392dd91953fa28fcba'), ObjectId('680845392dd91953fa28fcbb'), ObjectId('680845392dd91953fa28fcbc'), ObjectId('680845392dd91953fa28fcbd'), ObjectId('680845392dd91953fa28fcbe'), ObjectId('680845392dd91953fa28fcbf'), ObjectId('680845392dd91953fa28fcc0'), ObjectId('680845392dd91953fa28fcc1'), ObjectId('680845392dd91953fa28fcc2'), ObjectId('680845392dd91953fa28fcc3'), ObjectId('680845392dd91953fa28fcc4'), ObjectId('680845392dd91953fa28fcc5'), ObjectId('680845392dd91953fa28fcc6'), ObjectId('680845392dd91953fa28fcc7'), ObjectId('680845392dd91953fa28fcc8'), ObjectId('680845392dd91953fa28fcc9'), ObjectId('680845392dd91953fa28fcca'), ObjectId('680845392dd91953fa28fccb'), ObjectId('680845392dd91953fa28fccc'), ObjectId('680845392dd91953fa28fccd'), ObjectId('680845392dd91953fa28fcce'), ObjectId('680845392dd91953fa28fccf'), ObjectId('680845392dd91953fa28fcd0'), ObjectId('680845392dd91953fa28fcd1'), ObjectId('680845392dd91953fa28fcd2'), ObjectId('680845392dd91953fa28fcd3'), ObjectId('680845392dd91953fa28fcd4'), ObjectId('680845392dd91953fa28fcd5'), ObjectId('680845392dd91953fa28fcd6'), ObjectId('680845392dd91953fa28fcd7'), ObjectId('680845392dd91953fa28fcd8'), ObjectId('680845392dd91953fa28fcd9'), ObjectId('680845392dd91953fa28fcda'), ObjectId('680845392dd91953fa28fcdb'), ObjectId('680845392dd91953fa28fcdc'), ObjectId('680845392dd91953fa28fcdd'), ObjectId('680845392dd91953fa28fcde'), ObjectId('680845392dd91953fa28fcdf'), ObjectId('680845392dd91953fa28fce0'), ObjectId('680845392dd91953fa28fce1'), ObjectId('680845392dd91953fa28fce2'), ObjectId('680845392dd91953fa28fce3'), ObjectId('680845392dd91953fa28fce4'), ObjectId('680845392dd91953fa28fce5'), ObjectId('680845392dd91953fa28fce6'), ObjectId('680845392dd91953fa28fce7'), ObjectId('680845392dd91953fa28fce8'), ObjectId('680845392dd91953fa28fce9'), ObjectId('680845392dd91953fa28fcea'), ObjectId('680845392dd91953fa28fceb'), ObjectId('680845392dd91953fa28fcec'), ObjectId('680845392dd91953fa28fced'), ObjectId('680845392dd91953fa28fcee'), ObjectId('680845392dd91953fa28fcef'), ObjectId('680845392dd91953fa28fcf0'), ObjectId('680845392dd91953fa28fcf1'), ObjectId('680845392dd91953fa28fcf2'), ObjectId('680845392dd91953fa28fcf3'), ObjectId('680845392dd91953fa28fcf4'), ObjectId('680845392dd91953fa28fcf5'), ObjectId('680845392dd91953fa28fcf6'), ObjectId('680845392dd91953fa28fcf7'), ObjectId('680845392dd91953fa28fcf8'), ObjectId('680845392dd91953fa28fcf9'), ObjectId('680845392dd91953fa28fcfa'), ObjectId('680845392dd91953fa28fcfb'), ObjectId('680845392dd91953fa28fcfc'), ObjectId('680845392dd91953fa28fcfd'), ObjectId('680845392dd91953fa28fcfe'), ObjectId('680845392dd91953fa28fcff'), ObjectId('680845392dd91953fa28fd00'), ObjectId('680845392dd91953fa28fd01'), ObjectId('680845392dd91953fa28fd02'), ObjectId('680845392dd91953fa28fd03'), ObjectId('680845392dd91953fa28fd04'), ObjectId('680845392dd91953fa28fd05'), ObjectId('680845392dd91953fa28fd06'), ObjectId('680845392dd91953fa28fd07'), ObjectId('680845392dd91953fa28fd08'), ObjectId('680845392dd91953fa28fd09'), ObjectId('680845392dd91953fa28fd0a'), ObjectId('680845392dd91953fa28fd0b'), ObjectId('680845392dd91953fa28fd0c'), ObjectId('680845392dd91953fa28fd0d'), ObjectId('680845392dd91953fa28fd0e'), ObjectId('680845392dd91953fa28fd0f'), ObjectId('680845392dd91953fa28fd10'), ObjectId('680845392dd91953fa28fd11'), ObjectId('680845392dd91953fa28fd12'), ObjectId('680845392dd91953fa28fd13'), ObjectId('680845392dd91953fa28fd14'), ObjectId('680845392dd91953fa28fd15'), ObjectId('680845392dd91953fa28fd16'), ObjectId('680845392dd91953fa28fd17'), ObjectId('680845392dd91953fa28fd18'), ObjectId('680845392dd91953fa28fd19'), ObjectId('680845392dd91953fa28fd1a'), ObjectId('680845392dd91953fa28fd1b'), ObjectId('680845392dd91953fa28fd1c'), ObjectId('680845392dd91953fa28fd1d'), ObjectId('680845392dd91953fa28fd1e'), ObjectId('680845392dd91953fa28fd1f'), ObjectId('680845392dd91953fa28fd20'), ObjectId('680845392dd91953fa28fd21'), ObjectId('680845392dd91953fa28fd22'), ObjectId('680845392dd91953fa28fd23'), ObjectId('680845392dd91953fa28fd24'), ObjectId('680845392dd91953fa28fd25'), ObjectId('680845392dd91953fa28fd26'), ObjectId('680845392dd91953fa28fd27'), ObjectId('680845392dd91953fa28fd28'), ObjectId('680845392dd91953fa28fd29'), ObjectId('680845392dd91953fa28fd2a'), ObjectId('680845392dd91953fa28fd2b'), ObjectId('680845392dd91953fa28fd2c'), ObjectId('680845392dd91953fa28fd2d'), ObjectId('680845392dd91953fa28fd2e'), ObjectId('680845392dd91953fa28fd2f'), ObjectId('680845392dd91953fa28fd30'), ObjectId('680845392dd91953fa28fd31'), ObjectId('680845392dd91953fa28fd32'), ObjectId('680845392dd91953fa28fd33'), ObjectId('680845392dd91953fa28fd34'), ObjectId('680845392dd91953fa28fd35'), ObjectId('680845392dd91953fa28fd36'), ObjectId('680845392dd91953fa28fd37'), ObjectId('680845392dd91953fa28fd38'), ObjectId('680845392dd91953fa28fd39'), ObjectId('680845392dd91953fa28fd3a'), ObjectId('680845392dd91953fa28fd3b'), ObjectId('680845392dd91953fa28fd3c'), ObjectId('680845392dd91953fa28fd3d'), ObjectId('680845392dd91953fa28fd3e'), ObjectId('680845392dd91953fa28fd3f'), ObjectId('680845392dd91953fa28fd40'), ObjectId('680845392dd91953fa28fd41'), ObjectId('680845392dd91953fa28fd42'), ObjectId('680845392dd91953fa28fd43'), ObjectId('680845392dd91953fa28fd44'), ObjectId('680845392dd91953fa28fd45'), ObjectId('680845392dd91953fa28fd46'), ObjectId('680845392dd91953fa28fd47'), ObjectId('680845392dd91953fa28fd48'), ObjectId('680845392dd91953fa28fd49'), ObjectId('680845392dd91953fa28fd4a'), ObjectId('680845392dd91953fa28fd4b'), ObjectId('680845392dd91953fa28fd4c'), ObjectId('680845392dd91953fa28fd4d'), ObjectId('680845392dd91953fa28fd4e'), ObjectId('680845392dd91953fa28fd4f'), ObjectId('680845392dd91953fa28fd50'), ObjectId('680845392dd91953fa28fd51'), ObjectId('680845392dd91953fa28fd52'), ObjectId('680845392dd91953fa28fd53'), ObjectId('680845392dd91953fa28fd54'), ObjectId('680845392dd91953fa28fd55'), ObjectId('680845392dd91953fa28fd56'), ObjectId('680845392dd91953fa28fd57'), ObjectId('680845392dd91953fa28fd58'), ObjectId('680845392dd91953fa28fd59'), ObjectId('680845392dd91953fa28fd5a'), ObjectId('680845392dd91953fa28fd5b'), ObjectId('680845392dd91953fa28fd5c'), ObjectId('680845392dd91953fa28fd5d'), ObjectId('680845392dd91953fa28fd5e'), ObjectId('680845392dd91953fa28fd5f'), ObjectId('680845392dd91953fa28fd60'), ObjectId('680845392dd91953fa28fd61'), ObjectId('680845392dd91953fa28fd62'), ObjectId('680845392dd91953fa28fd63'), ObjectId('680845392dd91953fa28fd64'), ObjectId('680845392dd91953fa28fd65'), ObjectId('680845392dd91953fa28fd66'), ObjectId('680845392dd91953fa28fd67'), ObjectId('680845392dd91953fa28fd68'), ObjectId('680845392dd91953fa28fd69'), ObjectId('680845392dd91953fa28fd6a'), ObjectId('680845392dd91953fa28fd6b'), ObjectId('680845392dd91953fa28fd6c'), ObjectId('680845392dd91953fa28fd6d'), ObjectId('680845392dd91953fa28fd6e'), ObjectId('680845392dd91953fa28fd6f'), ObjectId('680845392dd91953fa28fd70'), ObjectId('680845392dd91953fa28fd71'), ObjectId('680845392dd91953fa28fd72'), ObjectId('680845392dd91953fa28fd73'), ObjectId('680845392dd91953fa28fd74'), ObjectId('680845392dd91953fa28fd75'), ObjectId('680845392dd91953fa28fd76'), ObjectId('680845392dd91953fa28fd77'), ObjectId('680845392dd91953fa28fd78'), ObjectId('680845392dd91953fa28fd79'), ObjectId('680845392dd91953fa28fd7a'), ObjectId('680845392dd91953fa28fd7b'), ObjectId('680845392dd91953fa28fd7c'), ObjectId('680845392dd91953fa28fd7d'), ObjectId('680845392dd91953fa28fd7e'), ObjectId('680845392dd91953fa28fd7f'), ObjectId('680845392dd91953fa28fd80'), ObjectId('680845392dd91953fa28fd81'), ObjectId('680845392dd91953fa28fd82'), ObjectId('680845392dd91953fa28fd83'), ObjectId('680845392dd91953fa28fd84'), ObjectId('680845392dd91953fa28fd85'), ObjectId('680845392dd91953fa28fd86'), ObjectId('680845392dd91953fa28fd87'), ObjectId('680845392dd91953fa28fd88'), ObjectId('680845392dd91953fa28fd89'), ObjectId('680845392dd91953fa28fd8a'), ObjectId('680845392dd91953fa28fd8b'), ObjectId('680845392dd91953fa28fd8c'), ObjectId('680845392dd91953fa28fd8d'), ObjectId('680845392dd91953fa28fd8e'), ObjectId('680845392dd91953fa28fd8f'), ObjectId('680845392dd91953fa28fd90'), ObjectId('680845392dd91953fa28fd91'), ObjectId('680845392dd91953fa28fd92'), ObjectId('680845392dd91953fa28fd93'), ObjectId('680845392dd91953fa28fd94'), ObjectId('680845392dd91953fa28fd95'), ObjectId('680845392dd91953fa28fd96'), ObjectId('680845392dd91953fa28fd97'), ObjectId('680845392dd91953fa28fd98'), ObjectId('680845392dd91953fa28fd99'), ObjectId('680845392dd91953fa28fd9a'), ObjectId('680845392dd91953fa28fd9b'), ObjectId('680845392dd91953fa28fd9c'), ObjectId('680845392dd91953fa28fd9d'), ObjectId('680845392dd91953fa28fd9e'), ObjectId('680845392dd91953fa28fd9f'), ObjectId('680845392dd91953fa28fda0'), ObjectId('680845392dd91953fa28fda1'), ObjectId('680845392dd91953fa28fda2'), ObjectId('680845392dd91953fa28fda3'), ObjectId('680845392dd91953fa28fda4'), ObjectId('680845392dd91953fa28fda5'), ObjectId('680845392dd91953fa28fda6'), ObjectId('680845392dd91953fa28fda7'), ObjectId('680845392dd91953fa28fda8'), ObjectId('680845392dd91953fa28fda9'), ObjectId('680845392dd91953fa28fdaa'), ObjectId('680845392dd91953fa28fdab'), ObjectId('680845392dd91953fa28fdac'), ObjectId('680845392dd91953fa28fdad'), ObjectId('680845392dd91953fa28fdae'), ObjectId('680845392dd91953fa28fdaf'), ObjectId('680845392dd91953fa28fdb0'), ObjectId('680845392dd91953fa28fdb1'), ObjectId('680845392dd91953fa28fdb2'), ObjectId('680845392dd91953fa28fdb3'), ObjectId('680845392dd91953fa28fdb4'), ObjectId('680845392dd91953fa28fdb5'), ObjectId('680845392dd91953fa28fdb6'), ObjectId('680845392dd91953fa28fdb7'), ObjectId('680845392dd91953fa28fdb8'), ObjectId('680845392dd91953fa28fdb9'), ObjectId('680845392dd91953fa28fdba'), ObjectId('680845392dd91953fa28fdbb'), ObjectId('680845392dd91953fa28fdbc'), ObjectId('680845392dd91953fa28fdbd'), ObjectId('680845392dd91953fa28fdbe'), ObjectId('680845392dd91953fa28fdbf'), ObjectId('680845392dd91953fa28fdc0'), ObjectId('680845392dd91953fa28fdc1'), ObjectId('680845392dd91953fa28fdc2'), ObjectId('680845392dd91953fa28fdc3'), ObjectId('680845392dd91953fa28fdc4'), ObjectId('680845392dd91953fa28fdc5'), ObjectId('680845392dd91953fa28fdc6'), ObjectId('680845392dd91953fa28fdc7'), ObjectId('680845392dd91953fa28fdc8'), ObjectId('680845392dd91953fa28fdc9'), ObjectId('680845392dd91953fa28fdca'), ObjectId('680845392dd91953fa28fdcb'), ObjectId('680845392dd91953fa28fdcc'), ObjectId('680845392dd91953fa28fdcd'), ObjectId('680845392dd91953fa28fdce'), ObjectId('680845392dd91953fa28fdcf'), ObjectId('680845392dd91953fa28fdd0'), ObjectId('680845392dd91953fa28fdd1'), ObjectId('680845392dd91953fa28fdd2'), ObjectId('680845392dd91953fa28fdd3'), ObjectId('680845392dd91953fa28fdd4'), ObjectId('680845392dd91953fa28fdd5'), ObjectId('680845392dd91953fa28fdd6'), ObjectId('680845392dd91953fa28fdd7'), ObjectId('680845392dd91953fa28fdd8'), ObjectId('680845392dd91953fa28fdd9'), ObjectId('680845392dd91953fa28fdda'), ObjectId('680845392dd91953fa28fddb'), ObjectId('680845392dd91953fa28fddc'), ObjectId('680845392dd91953fa28fddd'), ObjectId('680845392dd91953fa28fdde'), ObjectId('680845392dd91953fa28fddf'), ObjectId('680845392dd91953fa28fde0'), ObjectId('680845392dd91953fa28fde1'), ObjectId('680845392dd91953fa28fde2'), ObjectId('680845392dd91953fa28fde3'), ObjectId('680845392dd91953fa28fde4'), ObjectId('680845392dd91953fa28fde5'), ObjectId('680845392dd91953fa28fde6'), ObjectId('680845392dd91953fa28fde7'), ObjectId('680845392dd91953fa28fde8'), ObjectId('680845392dd91953fa28fde9'), ObjectId('680845392dd91953fa28fdea'), ObjectId('680845392dd91953fa28fdeb'), ObjectId('680845392dd91953fa28fdec'), ObjectId('680845392dd91953fa28fded'), ObjectId('680845392dd91953fa28fdee'), ObjectId('680845392dd91953fa28fdef'), ObjectId('680845392dd91953fa28fdf0'), ObjectId('680845392dd91953fa28fdf1'), ObjectId('680845392dd91953fa28fdf2'), ObjectId('680845392dd91953fa28fdf3'), ObjectId('680845392dd91953fa28fdf4'), ObjectId('680845392dd91953fa28fdf5'), ObjectId('680845392dd91953fa28fdf6'), ObjectId('680845392dd91953fa28fdf7'), ObjectId('680845392dd91953fa28fdf8'), ObjectId('680845392dd91953fa28fdf9'), ObjectId('680845392dd91953fa28fdfa'), ObjectId('680845392dd91953fa28fdfb'), ObjectId('680845392dd91953fa28fdfc'), ObjectId('680845392dd91953fa28fdfd'), ObjectId('680845392dd91953fa28fdfe'), ObjectId('680845392dd91953fa28fdff'), ObjectId('680845392dd91953fa28fe00'), ObjectId('680845392dd91953fa28fe01'), ObjectId('680845392dd91953fa28fe02'), ObjectId('680845392dd91953fa28fe03'), ObjectId('680845392dd91953fa28fe04'), ObjectId('680845392dd91953fa28fe05'), ObjectId('680845392dd91953fa28fe06'), ObjectId('680845392dd91953fa28fe07'), ObjectId('680845392dd91953fa28fe08'), ObjectId('680845392dd91953fa28fe09'), ObjectId('680845392dd91953fa28fe0a'), ObjectId('680845392dd91953fa28fe0b'), ObjectId('680845392dd91953fa28fe0c'), ObjectId('680845392dd91953fa28fe0d'), ObjectId('680845392dd91953fa28fe0e'), ObjectId('680845392dd91953fa28fe0f'), ObjectId('680845392dd91953fa28fe10'), ObjectId('680845392dd91953fa28fe11'), ObjectId('680845392dd91953fa28fe12'), ObjectId('680845392dd91953fa28fe13'), ObjectId('680845392dd91953fa28fe14'), ObjectId('680845392dd91953fa28fe15'), ObjectId('680845392dd91953fa28fe16'), ObjectId('680845392dd91953fa28fe17'), ObjectId('680845392dd91953fa28fe18'), ObjectId('680845392dd91953fa28fe19'), ObjectId('680845392dd91953fa28fe1a'), ObjectId('680845392dd91953fa28fe1b'), ObjectId('680845392dd91953fa28fe1c'), ObjectId('680845392dd91953fa28fe1d'), ObjectId('680845392dd91953fa28fe1e'), ObjectId('680845392dd91953fa28fe1f'), ObjectId('680845392dd91953fa28fe20'), ObjectId('680845392dd91953fa28fe21'), ObjectId('680845392dd91953fa28fe22'), ObjectId('680845392dd91953fa28fe23'), ObjectId('680845392dd91953fa28fe24'), ObjectId('680845392dd91953fa28fe25'), ObjectId('680845392dd91953fa28fe26'), ObjectId('680845392dd91953fa28fe27'), ObjectId('680845392dd91953fa28fe28'), ObjectId('680845392dd91953fa28fe29'), ObjectId('680845392dd91953fa28fe2a'), ObjectId('680845392dd91953fa28fe2b'), ObjectId('680845392dd91953fa28fe2c'), ObjectId('680845392dd91953fa28fe2d'), ObjectId('680845392dd91953fa28fe2e'), ObjectId('680845392dd91953fa28fe2f'), ObjectId('680845392dd91953fa28fe30'), ObjectId('680845392dd91953fa28fe31'), ObjectId('680845392dd91953fa28fe32'), ObjectId('680845392dd91953fa28fe33'), ObjectId('680845392dd91953fa28fe34'), ObjectId('680845392dd91953fa28fe35'), ObjectId('680845392dd91953fa28fe36'), ObjectId('680845392dd91953fa28fe37'), ObjectId('680845392dd91953fa28fe38'), ObjectId('680845392dd91953fa28fe39'), ObjectId('680845392dd91953fa28fe3a'), ObjectId('680845392dd91953fa28fe3b'), ObjectId('680845392dd91953fa28fe3c'), ObjectId('680845392dd91953fa28fe3d'), ObjectId('680845392dd91953fa28fe3e'), ObjectId('680845392dd91953fa28fe3f'), ObjectId('680845392dd91953fa28fe40'), ObjectId('680845392dd91953fa28fe41'), ObjectId('680845392dd91953fa28fe42'), ObjectId('680845392dd91953fa28fe43'), ObjectId('680845392dd91953fa28fe44'), ObjectId('680845392dd91953fa28fe45'), ObjectId('680845392dd91953fa28fe46'), ObjectId('680845392dd91953fa28fe47'), ObjectId('680845392dd91953fa28fe48'), ObjectId('680845392dd91953fa28fe49'), ObjectId('680845392dd91953fa28fe4a'), ObjectId('680845392dd91953fa28fe4b'), ObjectId('680845392dd91953fa28fe4c'), ObjectId('680845392dd91953fa28fe4d'), ObjectId('680845392dd91953fa28fe4e'), ObjectId('680845392dd91953fa28fe4f'), ObjectId('680845392dd91953fa28fe50'), ObjectId('680845392dd91953fa28fe51'), ObjectId('680845392dd91953fa28fe52'), ObjectId('680845392dd91953fa28fe53'), ObjectId('680845392dd91953fa28fe54'), ObjectId('680845392dd91953fa28fe55'), ObjectId('680845392dd91953fa28fe56'), ObjectId('680845392dd91953fa28fe57'), ObjectId('680845392dd91953fa28fe58'), ObjectId('680845392dd91953fa28fe59'), ObjectId('680845392dd91953fa28fe5a'), ObjectId('680845392dd91953fa28fe5b'), ObjectId('680845392dd91953fa28fe5c'), ObjectId('680845392dd91953fa28fe5d'), ObjectId('680845392dd91953fa28fe5e'), ObjectId('680845392dd91953fa28fe5f'), ObjectId('680845392dd91953fa28fe60'), ObjectId('680845392dd91953fa28fe61'), ObjectId('680845392dd91953fa28fe62'), ObjectId('680845392dd91953fa28fe63'), ObjectId('680845392dd91953fa28fe64'), ObjectId('680845392dd91953fa28fe65'), ObjectId('680845392dd91953fa28fe66'), ObjectId('680845392dd91953fa28fe67'), ObjectId('680845392dd91953fa28fe68'), ObjectId('680845392dd91953fa28fe69'), ObjectId('680845392dd91953fa28fe6a'), ObjectId('680845392dd91953fa28fe6b'), ObjectId('680845392dd91953fa28fe6c'), ObjectId('680845392dd91953fa28fe6d'), ObjectId('680845392dd91953fa28fe6e'), ObjectId('680845392dd91953fa28fe6f'), ObjectId('680845392dd91953fa28fe70'), ObjectId('680845392dd91953fa28fe71'), ObjectId('680845392dd91953fa28fe72'), ObjectId('680845392dd91953fa28fe73'), ObjectId('680845392dd91953fa28fe74'), ObjectId('680845392dd91953fa28fe75'), ObjectId('680845392dd91953fa28fe76'), ObjectId('680845392dd91953fa28fe77'), ObjectId('680845392dd91953fa28fe78'), ObjectId('680845392dd91953fa28fe79'), ObjectId('680845392dd91953fa28fe7a'), ObjectId('680845392dd91953fa28fe7b'), ObjectId('680845392dd91953fa28fe7c'), ObjectId('680845392dd91953fa28fe7d'), ObjectId('680845392dd91953fa28fe7e'), ObjectId('680845392dd91953fa28fe7f'), ObjectId('680845392dd91953fa28fe80'), ObjectId('680845392dd91953fa28fe81'), ObjectId('680845392dd91953fa28fe82'), ObjectId('680845392dd91953fa28fe83'), ObjectId('680845392dd91953fa28fe84'), ObjectId('680845392dd91953fa28fe85'), ObjectId('680845392dd91953fa28fe86'), ObjectId('680845392dd91953fa28fe87'), ObjectId('680845392dd91953fa28fe88'), ObjectId('680845392dd91953fa28fe89'), ObjectId('680845392dd91953fa28fe8a'), ObjectId('680845392dd91953fa28fe8b'), ObjectId('680845392dd91953fa28fe8c'), ObjectId('680845392dd91953fa28fe8d'), ObjectId('680845392dd91953fa28fe8e'), ObjectId('680845392dd91953fa28fe8f'), ObjectId('680845392dd91953fa28fe90'), ObjectId('680845392dd91953fa28fe91'), ObjectId('680845392dd91953fa28fe92'), ObjectId('680845392dd91953fa28fe93'), ObjectId('680845392dd91953fa28fe94'), ObjectId('680845392dd91953fa28fe95'), ObjectId('680845392dd91953fa28fe96'), ObjectId('680845392dd91953fa28fe97'), ObjectId('680845392dd91953fa28fe98'), ObjectId('680845392dd91953fa28fe99'), ObjectId('680845392dd91953fa28fe9a'), ObjectId('680845392dd91953fa28fe9b'), ObjectId('680845392dd91953fa28fe9c'), ObjectId('680845392dd91953fa28fe9d'), ObjectId('680845392dd91953fa28fe9e'), ObjectId('680845392dd91953fa28fe9f'), ObjectId('680845392dd91953fa28fea0'), ObjectId('680845392dd91953fa28fea1'), ObjectId('680845392dd91953fa28fea2'), ObjectId('680845392dd91953fa28fea3'), ObjectId('680845392dd91953fa28fea4'), ObjectId('680845392dd91953fa28fea5'), ObjectId('680845392dd91953fa28fea6'), ObjectId('680845392dd91953fa28fea7'), ObjectId('680845392dd91953fa28fea8'), ObjectId('680845392dd91953fa28fea9'), ObjectId('680845392dd91953fa28feaa'), ObjectId('680845392dd91953fa28feab'), ObjectId('680845392dd91953fa28feac'), ObjectId('680845392dd91953fa28fead'), ObjectId('680845392dd91953fa28feae'), ObjectId('680845392dd91953fa28feaf'), ObjectId('680845392dd91953fa28feb0'), ObjectId('680845392dd91953fa28feb1'), ObjectId('680845392dd91953fa28feb2'), ObjectId('680845392dd91953fa28feb3'), ObjectId('680845392dd91953fa28feb4'), ObjectId('680845392dd91953fa28feb5'), ObjectId('680845392dd91953fa28feb6'), ObjectId('680845392dd91953fa28feb7'), ObjectId('680845392dd91953fa28feb8'), ObjectId('680845392dd91953fa28feb9'), ObjectId('680845392dd91953fa28feba'), ObjectId('680845392dd91953fa28febb'), ObjectId('680845392dd91953fa28febc'), ObjectId('680845392dd91953fa28febd'), ObjectId('680845392dd91953fa28febe'), ObjectId('680845392dd91953fa28febf'), ObjectId('680845392dd91953fa28fec0'), ObjectId('680845392dd91953fa28fec1'), ObjectId('680845392dd91953fa28fec2'), ObjectId('680845392dd91953fa28fec3'), ObjectId('680845392dd91953fa28fec4'), ObjectId('680845392dd91953fa28fec5'), ObjectId('680845392dd91953fa28fec6'), ObjectId('680845392dd91953fa28fec7'), ObjectId('680845392dd91953fa28fec8'), ObjectId('680845392dd91953fa28fec9'), ObjectId('680845392dd91953fa28feca'), ObjectId('680845392dd91953fa28fecb'), ObjectId('680845392dd91953fa28fecc'), ObjectId('680845392dd91953fa28fecd'), ObjectId('680845392dd91953fa28fece'), ObjectId('680845392dd91953fa28fecf'), ObjectId('680845392dd91953fa28fed0'), ObjectId('680845392dd91953fa28fed1'), ObjectId('680845392dd91953fa28fed2'), ObjectId('680845392dd91953fa28fed3'), ObjectId('680845392dd91953fa28fed4'), ObjectId('680845392dd91953fa28fed5'), ObjectId('680845392dd91953fa28fed6'), ObjectId('680845392dd91953fa28fed7'), ObjectId('680845392dd91953fa28fed8'), ObjectId('680845392dd91953fa28fed9'), ObjectId('680845392dd91953fa28feda'), ObjectId('680845392dd91953fa28fedb'), ObjectId('680845392dd91953fa28fedc'), ObjectId('680845392dd91953fa28fedd'), ObjectId('680845392dd91953fa28fede'), ObjectId('680845392dd91953fa28fedf'), ObjectId('680845392dd91953fa28fee0'), ObjectId('680845392dd91953fa28fee1'), ObjectId('680845392dd91953fa28fee2'), ObjectId('680845392dd91953fa28fee3'), ObjectId('680845392dd91953fa28fee4'), ObjectId('680845392dd91953fa28fee5'), ObjectId('680845392dd91953fa28fee6'), ObjectId('680845392dd91953fa28fee7'), ObjectId('680845392dd91953fa28fee8'), ObjectId('680845392dd91953fa28fee9'), ObjectId('680845392dd91953fa28feea'), ObjectId('680845392dd91953fa28feeb'), ObjectId('680845392dd91953fa28feec'), ObjectId('680845392dd91953fa28feed'), ObjectId('680845392dd91953fa28feee'), ObjectId('680845392dd91953fa28feef'), ObjectId('680845392dd91953fa28fef0'), ObjectId('680845392dd91953fa28fef1'), ObjectId('680845392dd91953fa28fef2'), ObjectId('680845392dd91953fa28fef3'), ObjectId('680845392dd91953fa28fef4'), ObjectId('680845392dd91953fa28fef5'), ObjectId('680845392dd91953fa28fef6')], acknowledged=True)"
      ]
     },
     "execution_count": 6,
     "metadata": {},
     "output_type": "execute_result"
    }
   ],
   "source": [
    "client = MongoClient('mongodb://localhost:27017/')\n",
    "db = client['diabetes_db']\n",
    "collection = db['datasets']\n",
    "\n",
    "data_dict = df.to_dict('records')\n",
    "collection.insert_many(data_dict)"
   ]
  },
  {
   "cell_type": "code",
   "execution_count": 7,
   "id": "ae780ba4",
   "metadata": {},
   "outputs": [
    {
     "name": "stdout",
     "output_type": "stream",
     "text": [
      "Jumlah dokumen dalam koleksi: 768\n"
     ]
    }
   ],
   "source": [
    "print('Jumlah dokumen dalam koleksi:', collection.count_documents({}))"
   ]
  },
  {
   "cell_type": "markdown",
   "id": "09dad285",
   "metadata": {},
   "source": [
    "### Kesimpulan"
   ]
  },
  {
   "cell_type": "markdown",
   "id": "e3bdca73",
   "metadata": {},
   "source": []
  }
 ],
 "metadata": {
  "kernelspec": {
   "display_name": "Python 3",
   "language": "python",
   "name": "python3"
  },
  "language_info": {
   "codemirror_mode": {
    "name": "ipython",
    "version": 3
   },
   "file_extension": ".py",
   "mimetype": "text/x-python",
   "name": "python",
   "nbconvert_exporter": "python",
   "pygments_lexer": "ipython3",
   "version": "3.11.4"
  }
 },
 "nbformat": 4,
 "nbformat_minor": 5
}
